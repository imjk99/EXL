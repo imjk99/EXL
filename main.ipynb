{
 "cells": [
  {
   "cell_type": "code",
   "execution_count": 5,
   "metadata": {},
   "outputs": [
    {
     "data": {
      "text/plain": [
       "True"
      ]
     },
     "execution_count": 5,
     "metadata": {},
     "output_type": "execute_result"
    }
   ],
   "source": [
    "import numpy as np\n",
    "import pandas as pd\n",
    "# from os import environ as env\n",
    "from dotenv import load_dotenv\n",
    "load_dotenv()"
   ]
  },
  {
   "cell_type": "code",
   "execution_count": 12,
   "metadata": {},
   "outputs": [],
   "source": [
    "events=pd.read_excel(r\"C:\\Users\\racha\\Documents\\EXL_case\\Data & Submission Template\\Events Data.xlsx\")\n",
    "teams=pd.read_excel(r\"C:\\Users\\racha\\Documents\\EXL_case\\Data & Submission Template\\Game Metadata.xlsx\")\n",
    "game_meta_data=pd.ExcelFile(r\"C:\\Users\\racha\\Documents\\EXL_case\\Data & Submission Template\\Game Metadata.xlsx\")\n",
    "managers=pd.read_excel(game_meta_data,'managers')\n",
    "manager_history=pd.read_excel(game_meta_data,'manager_history')\n",
    "referees=pd.read_excel(game_meta_data,'referees')"
   ]
  }
 ],
 "metadata": {
  "kernelspec": {
   "display_name": "Python 3.10.7 64-bit",
   "language": "python",
   "name": "python3"
  },
  "language_info": {
   "codemirror_mode": {
    "name": "ipython",
    "version": 3
   },
   "file_extension": ".py",
   "mimetype": "text/x-python",
   "name": "python",
   "nbconvert_exporter": "python",
   "pygments_lexer": "ipython3",
   "version": "3.10.7"
  },
  "orig_nbformat": 4,
  "vscode": {
   "interpreter": {
    "hash": "7950b1a99a6e9411b6d2569e805e76fd474e8ee40f210b2ce7f839f9e27489d2"
   }
  }
 },
 "nbformat": 4,
 "nbformat_minor": 2
}
